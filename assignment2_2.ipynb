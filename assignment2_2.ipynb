{
 "cells": [
  {
   "cell_type": "code",
   "execution_count": null,
   "metadata": {},
   "outputs": [],
   "source": [
    "d = dict()\n",
    "for i in range(ord(\"a\"), ord(\"z\")+1):\n",
    "    d[chr(i)] = i\n",
    "    #d[chr(i)] = i\n",
    "print (\"sample output:\",d)"
   ]
  }
 ],
 "metadata": {
  "language_info": {
   "name": "python"
  }
 },
 "nbformat": 4,
 "nbformat_minor": 2
}
